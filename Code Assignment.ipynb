{
 "cells": [
  {
   "cell_type": "markdown",
   "id": "3fe10ec3-e626-4c74-b127-4908ea468bf3",
   "metadata": {},
   "source": [
    "##### Name: Naveen Kumar Reddy\n",
    "##### Email: Naveenreddy.puthi@gmail.com"
   ]
  },
  {
   "cell_type": "markdown",
   "id": "a255b0ea-e89a-415a-b7da-868f09c5cfa3",
   "metadata": {},
   "source": [
    "## Coding Section -"
   ]
  },
  {
   "cell_type": "markdown",
   "id": "ced5e9f1-f367-481f-ade5-48bb295b995a",
   "metadata": {},
   "source": [
    "#### 1. Could we sum it?\n",
    "Let Ankur has given a large weight W, and a list of smaller weights in an array. He needs to write a\n",
    "code in order to find \"can we form weight W or not, using smaller weights\". He only knows dp\n",
    "solution. Could you write a code solution for him without using dp.\n",
    "Constraint: - list size <= 12\n",
    "Sample Input1: -\n",
    "W = 15\n",
    "list = {4, 3, 5, 6, 4}\n",
    "Output: - True\n",
    "Explanation: -\n",
    "15 =4 + 5 + 6.\n",
    "Sample Input2: -\n",
    "W = 9\n",
    "list = {4, 1, 3, 7}\n",
    "Output: - False.\n",
    "Explanation: - There is no way to sum up 7."
   ]
  },
  {
   "cell_type": "markdown",
   "id": "2274038b-42da-43dd-a0db-ca23e5e2c3b1",
   "metadata": {},
   "source": [
    "### CODE -"
   ]
  },
  {
   "cell_type": "code",
   "execution_count": 9,
   "id": "fc29dcc4-4948-482f-a190-6c88ba0f9c03",
   "metadata": {},
   "outputs": [
    {
     "name": "stdout",
     "output_type": "stream",
     "text": [
      "True\n",
      "We can form weight 15\n",
      "False\n",
      "We cannot form weight 9\n"
     ]
    }
   ],
   "source": [
    "def can_form_weight(W, weights):\n",
    "    if W == 0:\n",
    "        return True\n",
    "    if not weights or W < 0:\n",
    "        return False\n",
    "    if can_form_weight(W - weights[0], weights[1:]):\n",
    "        return True\n",
    "    if can_form_weight(W, weights[1:]):\n",
    "        return True\n",
    "    return False\n",
    "\n",
    "# Test case 1 - Output: True\n",
    "W = 15\n",
    "weights = [4, 3, 5, 6, 4]\n",
    "print(can_form_weight(W, weights)) \n",
    "if can_form_weight(W, weights):\n",
    "    print(\"We can form weight\", W)\n",
    "else:\n",
    "    print(\"We cannot form weight\", W)\n",
    "\n",
    "# Test case 2 - Output: False\n",
    "W = 9\n",
    "weights = [4, 1, 3, 7]\n",
    "print(can_form_weight(W, weights)) \n",
    "if can_form_weight(W, weights):\n",
    "    print(\"We can form weight\", W)\n",
    "else:\n",
    "    print(\"We cannot form weight\", W)"
   ]
  }
 ],
 "metadata": {
  "kernelspec": {
   "display_name": "Python 3 (ipykernel)",
   "language": "python",
   "name": "python3"
  },
  "language_info": {
   "codemirror_mode": {
    "name": "ipython",
    "version": 3
   },
   "file_extension": ".py",
   "mimetype": "text/x-python",
   "name": "python",
   "nbconvert_exporter": "python",
   "pygments_lexer": "ipython3",
   "version": "3.10.9"
  }
 },
 "nbformat": 4,
 "nbformat_minor": 5
}
